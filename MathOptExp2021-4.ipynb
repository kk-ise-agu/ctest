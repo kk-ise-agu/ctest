{
 "cells": [
  {
   "cell_type": "markdown",
   "metadata": {},
   "source": [
    "#  Scipyによる最適化 -第4回-\n",
    "\n",
    "Scientific computing tools or Python\n",
    "\n",
    "https://docs.scipy.org/doc/scipy/reference/tutorial/optimize.html\n",
    "\n",
    "SciPyは，Pythonによる科学技術計算のためのオープンソースソフトウェアを利用可能な仕組みである。\n",
    "\n",
    "Scipyは，NumPyパッケージを内部で用いている。具体的には，NumPyで定義された基本的なデータ構造（配列や行列）や，基本的な演算を用いている。また，図示するためにはMatplotlibを用いている。\n",
    "\n",
    "\n",
    "\n",
    "\n",
    "# 最小二乗法\n",
    "\n",
    "SciPyの機能を用いると，上下限制約をもつ非線形な最小二乗法を解くことができる。\n",
    "\n",
    "$$\n",
    "\\begin{array}{ll}\n",
    "\\text{最小化}_x & \\frac{1}{2} \\sum_{i=1}^m  \\rho\\left( f_i\\left( x \\right)^2  \\right) \\\\ \n",
    "\\text{制約条件} & lb \\leq  x \\leq ub \n",
    "\\end{array}\n",
    "$$\n",
    "\n",
    "ここで，$f_i(x)$は$n$次元実数空間$\\mathbb{R}^n$から$\\mathbb{R}$ への滑らかな関数とする。この関数のことを，残差ということにする。また，$\\rho(\\cdot)$はスカラー値関数とする。この関数は，損失関数と呼ばれる。損失関数は，ロバスト差にかかわるものである。損失関数が線形であれば，通常の最小二乗法となる。\n",
    "\n",
    "ここでは，次式で定められる式を用いる。\n",
    "\n",
    "$$\n",
    "f_i(x) = \\frac{x_0 \\left(u_i^2+u_ix_1\\right)}{u_i^2+u_ix_2+x_3} - y_i,\\quad i=0,1,...,10\n",
    "$$\n",
    "\n",
    "これは，回帰モデルを表す。$y_i$は観測値を表し，$u_i$は独立変数を表す。未知のパラメータベクトルは，$x=\\left(x_0,x_1,x_2,x_3\\right)^{\\top}$である。\n",
    "\n",
    "この関数$f(x)$のヤコビ行列は，次のようになる。\n",
    "\n",
    "$$\n",
    "J_{i0} = \\frac{\\partial f_i}{\\partial x_0}=\\frac{u_i^2+u_ix_1}{u_i^2+u_ix_2+x_3}\n",
    "$$\n",
    "$$\n",
    "J_{i1}=\\frac{\\partial f_i}{\\partial x_1}=\\frac{u_i x_0}{u_i^2+u_ix_2+x_3}\n",
    "$$\n",
    "$$\n",
    "J_{i2}=\\frac{\\partial f_i}{\\partial x_2}=-\\frac{x_0\\left(u_i^2+u_ix_1\\right)u_i}{\\left(u_i^2+u_ix_2+x_3\\right)^2}\n",
    "$$\n",
    "$$\n",
    "J_{i3}=\\frac{\\partial f_i}{\\partial x_3}=-\\frac{x_0\\left(u_i^2+u_ix_1\\right)}{\\left(u_i^2+u_ix_2+x_3\\right)^2}\n",
    "$$\n",
    "\n",
    "最小二乗法によってパラメータ$x$を求めるプログラムは，次のとおりである。"
   ]
  },
  {
   "cell_type": "code",
   "execution_count": null,
   "metadata": {},
   "outputs": [],
   "source": [
    "from scipy.optimize import least_squares"
   ]
  },
  {
   "cell_type": "code",
   "execution_count": null,
   "metadata": {},
   "outputs": [],
   "source": [
    "def model(x, u):\n",
    "    return x[0] * (u ** 2 + x[1] * u) / (u ** 2 + x[2] * u + x[3])"
   ]
  },
  {
   "cell_type": "code",
   "execution_count": null,
   "metadata": {},
   "outputs": [],
   "source": [
    "def fun(x, u, y):\n",
    "    return model(x, u) - y"
   ]
  },
  {
   "cell_type": "code",
   "execution_count": null,
   "metadata": {},
   "outputs": [],
   "source": [
    "#ヤコビ行列の定義　\n",
    "def jac(x, u, y):\n",
    "    J = np.empty((u.size, x.size))\n",
    "    den = u ** 2 + x[2] * u + x[3]\n",
    "    num = u ** 2 + x[1] * u\n",
    "    J[:, 0] = num / den\n",
    "    J[:, 1] = x[0] * u / den\n",
    "    J[:, 2] = -x[0] * num * u / den ** 2\n",
    "    J[:, 3] = -x[0] * num / den ** 2\n",
    "    return J"
   ]
  },
  {
   "cell_type": "code",
   "execution_count": null,
   "metadata": {},
   "outputs": [],
   "source": [
    "#データuとyの設定\n",
    "u = np.array([4.0, 2.0, 1.0, 5.0e-1, 2.5e-1, 1.67e-1, 1.25e-1, 1.0e-1,\n",
    "              8.33e-2, 7.14e-2, 6.25e-2])\n",
    "y = np.array([1.957e-1, 1.947e-1, 1.735e-1, 1.6e-1, 8.44e-2, 6.27e-2,\n",
    "              4.56e-2, 3.42e-2, 3.23e-2, 2.35e-2, 2.46e-2])\n",
    "x0 = np.array([2.5, 3.9, 4.15, 3.9])"
   ]
  },
  {
   "cell_type": "code",
   "execution_count": null,
   "metadata": {},
   "outputs": [],
   "source": [
    "#最小二乗法による最適解の計算\n",
    "res = least_squares(fun, x0, jac=jac, bounds=(0, 100), args=(u, y), verbose=1)\n",
    "#結果を表示する\n",
    "res.x"
   ]
  },
  {
   "cell_type": "markdown",
   "metadata": {},
   "source": [
    "得られた結果を図示するには，次のプログラムを実行する。"
   ]
  },
  {
   "cell_type": "code",
   "execution_count": null,
   "metadata": {},
   "outputs": [],
   "source": [
    "import matplotlib.pyplot as plt\n",
    "u_test = np.linspace(0, 5)\n",
    "y_test = model(res.x, u_test)\n",
    "plt.plot(u, y, 'o', markersize=4, label='data')\n",
    "plt.plot(u_test, y_test, label='fitted model')\n",
    "plt.xlabel(\"u\")\n",
    "plt.ylabel(\"y\")\n",
    "plt.legend(loc='lower right')\n",
    "plt.show()"
   ]
  },
  {
   "cell_type": "markdown",
   "metadata": {},
   "source": [
    "--------\n",
    "\n",
    "## 課題5\n",
    "\n",
    "(1) `least_squares()`の引数として`loss=soft_l1`を指定すると，何が計算されるかを説明せよ。その際，適切に数式を用いることが必要である．\n",
    "\n",
    "(2) 上記のデータ`u`と`y`に対して，`loss=soft_l1`を指定して`least_squares()`を実行せよ。そして，得られた結果を，`loss=soft_l1`を指定していない場合の結果と比較せよ．  \n",
    "\n",
    "(3) データ`u`と`y`の値を（上記の例とは異なるものに）適当に設定し，最小二乗法により回帰モデルを求めよ。また，その結果について説明せよ。\n",
    "\n",
    "--------\n",
    "\n",
    "\n"
   ]
  },
  {
   "cell_type": "code",
   "execution_count": null,
   "metadata": {},
   "outputs": [],
   "source": [
    "#ここにプログラムを作成してください．\n",
    "\n",
    "#最小二乗法による最適解の計算\n",
    "#res = ...\n",
    "#結果を表示する\n",
    "res.x"
   ]
  },
  {
   "cell_type": "code",
   "execution_count": null,
   "metadata": {},
   "outputs": [],
   "source": [
    "#ここにプログラムを作成してください．\n",
    "\n",
    "import matplotlib.pyplot as plt\n",
    "u_test = np.linspace(0, 5)\n",
    "#y_test = ...\n",
    "#plt.plot(...)\n",
    "#plt.plot(...)\n",
    "#... 横軸と縦軸の設定，凡例の表示など\n",
    "#...\n",
    "plt.show()"
   ]
  },
  {
   "cell_type": "markdown",
   "metadata": {},
   "source": [
    "# 方程式の求解\n",
    "\n",
    "SciPyでは，`root`関数を用いて方程式の解を求めることができる。"
   ]
  },
  {
   "cell_type": "markdown",
   "metadata": {},
   "source": [
    "## スカラー関数の場合\n",
    "\n",
    "単一変数のスカラー関数は，いくつかの方法で解を求めることができる。"
   ]
  },
  {
   "cell_type": "code",
   "execution_count": null,
   "metadata": {},
   "outputs": [],
   "source": [
    "import numpy as np \n",
    "from scipy.optimize import root \n",
    "def func(x):\n",
    "    return x + 2*np.cos(x)\n",
    "sol=root(func,0.3)\n",
    "sol.x"
   ]
  },
  {
   "cell_type": "markdown",
   "metadata": {},
   "source": [
    "この結果から，この方程式の解は，-1.03であることがわかる。"
   ]
  },
  {
   "cell_type": "markdown",
   "metadata": {},
   "source": [
    "--------\n",
    "\n",
    "## 課題6\n",
    "\n",
    "\n",
    "次の方程式の解を，`root`関数を用いて求めよ。\n",
    "\n",
    "$$\n",
    "0.9x^4-4x^3+0.5x^2+11x-4.5=0\n",
    "$$\n",
    "\n",
    "--------\n"
   ]
  },
  {
   "cell_type": "code",
   "execution_count": null,
   "metadata": {},
   "outputs": [],
   "source": [
    "#ここにプログラムを作成してください．\n",
    "\n",
    "import numpy as np \n",
    "from scipy.optimize import root \n",
    "#def func_ex6(x):\n",
    "#    return ...\n",
    "#def func1(x):\n",
    "#    return ...\n",
    "#sol=root(...)\n",
    "sol.x"
   ]
  },
  {
   "cell_type": "markdown",
   "metadata": {},
   "source": [
    "## 不動点を求めること\n",
    "\n",
    "方程式の解を求めることと近い処理は，関数の不動点を求める処理である。関数$g(x)$の不動点は，$g(x)=x$を満たす点$x$のことを指す。ここで，$f(x)$を$f(x)=g(x)-x$と定義すると，$g(x)$の不動点は，方程式$f(x)=0$の解である。SciPyの関数`fixed_point`は，反復法により関数$g$の不動点を得るルーチンである。"
   ]
  },
  {
   "cell_type": "markdown",
   "metadata": {},
   "source": [
    "## 複数の方程式の解\n",
    "\n",
    "複数の非線形方程式の解を求めるには，`root`関数を用いる。次の方程式\n",
    "$$\n",
    "x+2\\cos(x)=0 \n",
    "$$\n",
    "の解を求めるためのプログラムは次のとおりである。\n",
    "\n",
    "まず，解を求める方程式を定める数式を返す関数`func(x)`として定義する。そして，引数として関数`func`と反復の初期点0.3を与えて`root`を実行する。"
   ]
  },
  {
   "cell_type": "markdown",
   "metadata": {},
   "source": [
    "次に，複数の非線形方程式を満たす点を求める。\n",
    "$$\n",
    "\\begin{array}{l}\n",
    "x_0\\cos(x_1)=4  \\\\\n",
    "x_0x_1 - x_1 = 5\n",
    "\\end{array}\n",
    "$$\n",
    "この関数を満たす点は，\n",
    "$$\n",
    "f(x)=\n",
    "\\begin{bmatrix}\n",
    "c_0(x) \\\\\n",
    "c_1(x)\n",
    "\\end{bmatrix}\n",
    "=\n",
    "\\begin{bmatrix}\n",
    "x_0 \\cos(x_1)-4 \\\\\n",
    "x_0x_1-x_1-5\n",
    "\\end{bmatrix}\n",
    "=\n",
    "\\begin{bmatrix}\n",
    "0 \\\\ 0\n",
    "\\end{bmatrix}\n",
    "$$\n",
    "を満たす点である。\n",
    "\n",
    "この関数$f(x)$のヤコビ行列$J(x)$は，次のとおりである。\n",
    "$$\n",
    "J(x)=\\begin{bmatrix}\n",
    "\\frac{\\partial c_0}{\\partial x_0} & \\frac{\\partial c_0}{\\partial x_1} \\\\ \n",
    "\\frac{\\partial c_1}{\\partial x_0} & \\frac{\\partial c_1}{\\partial x_1}\n",
    "\\end{bmatrix}\n",
    "=\n",
    "\\begin{bmatrix}\n",
    "\\cos(x_1) & -x_0 \\sin(x_1) \\\\ \n",
    "x_1 & x_0-1\n",
    "\\end{bmatrix}\n",
    "$$\n",
    "\n",
    "この方程式系の解を`root`関数を求めるために，関数`func2()`を定義する。この関数は，2つの配列`f`と`df`を返す。`f`は解を求める2つの方程式自体であり，`df`はヤコビ行列である．　"
   ]
  },
  {
   "cell_type": "code",
   "execution_count": null,
   "metadata": {},
   "outputs": [],
   "source": [
    "def func2(x):\n",
    "    f = [x[0] * np.cos(x[1]) - 4,\n",
    "         x[1]*x[0] - x[1] - 5]\n",
    "    df = np.array([[np.cos(x[1]), -x[0] * np.sin(x[1])],\n",
    "                   [x[1], x[0] - 1]])\n",
    "    return f, df\n"
   ]
  },
  {
   "cell_type": "markdown",
   "metadata": {},
   "source": [
    "こうして定義した関数`func2`を，`root`の第1引数として与える。第2引数には初期点`[1,1]`を与える.また，`jac=True`とすることで，第1引数として指定した関数`func2`は，ヤコビ行列も第2の返り値として返すことを関数に教える。`method='lm'`は，アルゴリズムとしてLevenberg-Marquardt法を用いるように指示する。"
   ]
  },
  {
   "cell_type": "code",
   "execution_count": null,
   "metadata": {},
   "outputs": [],
   "source": [
    "sol = root(func2, [1, 1], jac=True, method='lm')\n",
    "sol.x"
   ]
  },
  {
   "cell_type": "markdown",
   "metadata": {},
   "source": [
    "これより，解は，$(x_0,x_1)=(6.50,0.91)$であることがわかる。"
   ]
  },
  {
   "cell_type": "markdown",
   "metadata": {},
   "source": [
    "--------\n",
    "\n",
    "## 課題7\n",
    "\n",
    "次の方程式系の解を，`root`を用いて求めよ。その際，ヤコビ行列を用いること。\n",
    "\n",
    "$$\n",
    "\\begin{array}{l}\n",
    "x_0+2x_1-2=0\\\\\n",
    "x_0^2+4x_1^2-4=0\n",
    "\\end{array}\n",
    "$$\n",
    "\n",
    "\n",
    "--------"
   ]
  },
  {
   "cell_type": "code",
   "execution_count": null,
   "metadata": {},
   "outputs": [],
   "source": [
    "#ここにプログラムを作成してください．\n",
    "\n",
    "from numpy import array\n",
    "from scipy.optimize import root\n",
    "\n",
    "#def function(x):\n",
    "#    f = array( )\n",
    "#    df = array( )\n",
    "#    return ...\n",
    "\n",
    "#sol = root()\n",
    "print(sol)"
   ]
  },
  {
   "cell_type": "markdown",
   "metadata": {},
   "source": [
    "# 最適化技術実験 第4回　レポート\n",
    "### 学生番号 000000 氏名 青学太郎\n",
    "\n",
    "(ここから下に，レポートを作成してください。レポートを作成したら，「File」->「Save and Checkpoint」でこのjupyter notebookファイルを保存し，さらに，「File」->「Download as」->「Notebook(.ipynb)」を選択して手元のPCにダウンロードしてください．ダウンロードしたファイルの名前を「学生番号-氏名.ipynb」に変更して，CoursePowerから提出してください．ここで，ファイル名内の\"学生番号\"は1から始まる自分の学生番号に，\"氏名\"は自分の氏名に置き換えてください．）"
   ]
  },
  {
   "cell_type": "code",
   "execution_count": null,
   "metadata": {},
   "outputs": [],
   "source": []
  }
 ],
 "metadata": {
  "kernelspec": {
   "display_name": "Python 3",
   "language": "python",
   "name": "python3"
  },
  "language_info": {
   "codemirror_mode": {
    "name": "ipython",
    "version": 3
   },
   "file_extension": ".py",
   "mimetype": "text/x-python",
   "name": "python",
   "nbconvert_exporter": "python",
   "pygments_lexer": "ipython3",
   "version": "3.8.3"
  }
 },
 "nbformat": 4,
 "nbformat_minor": 4
}
